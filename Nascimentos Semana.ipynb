{
 "cells": [
  {
   "cell_type": "markdown",
   "id": "98b4f0a6",
   "metadata": {},
   "source": [
    "### Objetivo: desenvolver gráfico que mostre a quantidade de nascimentos em cada dia da semana, entre os anos 1970 e 1987."
   ]
  },
  {
   "cell_type": "markdown",
   "id": "9f464761",
   "metadata": {},
   "source": [
    "#### 1º - Importando bibliotecas"
   ]
  },
  {
   "cell_type": "code",
   "execution_count": 1,
   "id": "4c96fee1",
   "metadata": {},
   "outputs": [],
   "source": [
    "import numpy as np\n",
    "import pandas as pd\n",
    "import seaborn as sns\n",
    "%matplotlib inline\n",
    "import matplotlib.pyplot as plt"
   ]
  },
  {
   "cell_type": "markdown",
   "id": "9a489b08",
   "metadata": {},
   "source": [
    "#### 2º - Pegando dados de fonte externa:"
   ]
  },
  {
   "cell_type": "code",
   "execution_count": 2,
   "id": "fcd32a6e",
   "metadata": {},
   "outputs": [],
   "source": [
    "db = pd.read_csv(\"https://raw.githubusercontent.com/jakevdp/data-CDCbirths/master/births.csv\")"
   ]
  },
  {
   "cell_type": "markdown",
   "id": "caf877fd",
   "metadata": {},
   "source": [
    "#### 3º - Renomeando colunas"
   ]
  },
  {
   "cell_type": "code",
   "execution_count": 3,
   "id": "26794093",
   "metadata": {},
   "outputs": [
    {
     "name": "stdout",
     "output_type": "stream",
     "text": [
      "[ 1.  2.  3.  4.  5.  6.  7.  8.  9. 10. 11. 12. 13. 14. 15. 16. 17. 18.\n",
      " 19. 20. 21. 22. 23. 24. 25. 26. 27. 28. 29. 30. 31. 99.]\n",
      "[1969 1970 1971 1972 1973 1974 1975 1976 1977 1978 1979 1980 1981 1982\n",
      " 1983 1984 1985 1986 1987 1988]\n",
      "[ 1  2  3  4  5  6  7  8  9 10 11 12]\n"
     ]
    }
   ],
   "source": [
    "db = db.rename(columns={'year':'ano','month':'mes','day':'dia','gender':'genero','births':'nasc'})\n",
    "\n",
    "    #Removendo linhas com NaN\n",
    "db = db.dropna()\n",
    "\n",
    "    #Testando se os NaN foram descartados\n",
    "\n",
    "print(db.dia.unique())\n",
    "print(db.ano.unique())\n",
    "print(db.mes.unique())"
   ]
  },
  {
   "cell_type": "markdown",
   "id": "6b5fb4a6",
   "metadata": {},
   "source": [
    "#### 4º - Remover o dia 99, porque não existe 99 dias no mês"
   ]
  },
  {
   "cell_type": "code",
   "execution_count": 4,
   "id": "0cb3f6e7",
   "metadata": {},
   "outputs": [
    {
     "data": {
      "text/plain": [
       "array([ 1.,  2.,  3.,  4.,  5.,  6.,  7.,  8.,  9., 10., 11., 12., 13.,\n",
       "       14., 15., 16., 17., 18., 19., 20., 21., 22., 23., 24., 25., 26.,\n",
       "       27., 28., 29., 30., 31.])"
      ]
     },
     "execution_count": 4,
     "metadata": {},
     "output_type": "execute_result"
    }
   ],
   "source": [
    "db = db.drop(db[db['dia'] > 31].index)\n",
    "db\n",
    "\n",
    "    #Conferindo se o 99 foi removido\n",
    "db.dia.unique()"
   ]
  },
  {
   "cell_type": "markdown",
   "id": "c3ce2477",
   "metadata": {},
   "source": [
    "#### 5º - Filtrar o ano"
   ]
  },
  {
   "cell_type": "code",
   "execution_count": 5,
   "id": "8935a0f8",
   "metadata": {},
   "outputs": [],
   "source": [
    "db = db[(db['ano'] >= 1970) & (db['ano'] <= 1987)]"
   ]
  },
  {
   "cell_type": "markdown",
   "id": "4690aded",
   "metadata": {},
   "source": [
    "#### 6º - Entender os data types das colunas"
   ]
  },
  {
   "cell_type": "code",
   "execution_count": 6,
   "id": "347bcd58",
   "metadata": {},
   "outputs": [
    {
     "name": "stdout",
     "output_type": "stream",
     "text": [
      "<class 'pandas.core.frame.DataFrame'>\n",
      "Int64Index: 13241 entries, 768 to 14327\n",
      "Data columns (total 5 columns):\n",
      " #   Column  Non-Null Count  Dtype  \n",
      "---  ------  --------------  -----  \n",
      " 0   ano     13241 non-null  int64  \n",
      " 1   mes     13241 non-null  int64  \n",
      " 2   dia     13241 non-null  float64\n",
      " 3   genero  13241 non-null  object \n",
      " 4   nasc    13241 non-null  int64  \n",
      "dtypes: float64(1), int64(3), object(1)\n",
      "memory usage: 620.7+ KB\n"
     ]
    }
   ],
   "source": [
    "db.info()"
   ]
  },
  {
   "cell_type": "markdown",
   "id": "4823bfee",
   "metadata": {},
   "source": [
    "#### 7º - Transformar o data type de dia de float para int"
   ]
  },
  {
   "cell_type": "code",
   "execution_count": 7,
   "id": "962c0865",
   "metadata": {},
   "outputs": [
    {
     "data": {
      "text/plain": [
       "768       1\n",
       "769       1\n",
       "770       2\n",
       "771       2\n",
       "772       3\n",
       "         ..\n",
       "14323    29\n",
       "14324    30\n",
       "14325    30\n",
       "14326    31\n",
       "14327    31\n",
       "Name: dia, Length: 13241, dtype: int64"
      ]
     },
     "execution_count": 7,
     "metadata": {},
     "output_type": "execute_result"
    }
   ],
   "source": [
    "db['dia'] = db['dia'].apply(lambda x: int(x))\n",
    "db['dia']"
   ]
  },
  {
   "cell_type": "markdown",
   "id": "2b0b4808",
   "metadata": {},
   "source": [
    "#### 8º - Transformar o data type de ano, mes e dia de int para string"
   ]
  },
  {
   "cell_type": "code",
   "execution_count": 8,
   "id": "0c7ff6ab",
   "metadata": {},
   "outputs": [
    {
     "name": "stdout",
     "output_type": "stream",
     "text": [
      "<class 'pandas.core.frame.DataFrame'>\n",
      "Int64Index: 13241 entries, 768 to 14327\n",
      "Data columns (total 5 columns):\n",
      " #   Column  Non-Null Count  Dtype \n",
      "---  ------  --------------  ----- \n",
      " 0   ano     13241 non-null  object\n",
      " 1   mes     13241 non-null  object\n",
      " 2   dia     13241 non-null  object\n",
      " 3   genero  13241 non-null  object\n",
      " 4   nasc    13241 non-null  int64 \n",
      "dtypes: int64(1), object(4)\n",
      "memory usage: 620.7+ KB\n",
      "768       1\n",
      "769       1\n",
      "770       2\n",
      "771       2\n",
      "772       3\n",
      "         ..\n",
      "14323    29\n",
      "14324    30\n",
      "14325    30\n",
      "14326    31\n",
      "14327    31\n",
      "Name: dia, Length: 13241, dtype: object\n",
      "768       1\n",
      "769       1\n",
      "770       1\n",
      "771       1\n",
      "772       1\n",
      "         ..\n",
      "14323    12\n",
      "14324    12\n",
      "14325    12\n",
      "14326    12\n",
      "14327    12\n",
      "Name: mes, Length: 13241, dtype: object\n",
      "768      1970\n",
      "769      1970\n",
      "770      1970\n",
      "771      1970\n",
      "772      1970\n",
      "         ... \n",
      "14323    1987\n",
      "14324    1987\n",
      "14325    1987\n",
      "14326    1987\n",
      "14327    1987\n",
      "Name: ano, Length: 13241, dtype: object\n"
     ]
    }
   ],
   "source": [
    "db['dia'] = db['dia'].values.astype(str)\n",
    "db['mes'] = db['mes'].values.astype(str)\n",
    "db['ano'] = db['ano'].values.astype(str)\n",
    "\n",
    "    #Checando se o data type mudou\n",
    "db.info()\n",
    "\n",
    "    #Checando se a conversão de tipo preservou a informação corretamente\n",
    "    \n",
    "print(db['dia'])\n",
    "print(db['mes'])\n",
    "print(db['ano'])"
   ]
  },
  {
   "cell_type": "markdown",
   "id": "16b60a84",
   "metadata": {},
   "source": [
    "#### 9º - Criando uma coluna, que é a data_inteira"
   ]
  },
  {
   "cell_type": "code",
   "execution_count": 9,
   "id": "70843141",
   "metadata": {},
   "outputs": [
    {
     "name": "stdout",
     "output_type": "stream",
     "text": [
      "<class 'pandas.core.frame.DataFrame'>\n",
      "Int64Index: 13241 entries, 768 to 14327\n",
      "Data columns (total 6 columns):\n",
      " #   Column        Non-Null Count  Dtype \n",
      "---  ------        --------------  ----- \n",
      " 0   ano           13241 non-null  object\n",
      " 1   mes           13241 non-null  object\n",
      " 2   dia           13241 non-null  object\n",
      " 3   genero        13241 non-null  object\n",
      " 4   nasc          13241 non-null  int64 \n",
      " 5   data_inteira  13241 non-null  object\n",
      "dtypes: int64(1), object(5)\n",
      "memory usage: 724.1+ KB\n"
     ]
    }
   ],
   "source": [
    "db['data_inteira'] = db['ano'] + '-' + db['mes'] + '-' + db['dia']\n",
    "\n",
    "db['data_inteira']\n",
    "\n",
    "    #Confirmando se uma nova coluna (data_inteira) foi criada\n",
    "db.info()"
   ]
  },
  {
   "cell_type": "markdown",
   "id": "899dd995",
   "metadata": {},
   "source": [
    "#### 10º - Convertendo a coluna data_inteira em data"
   ]
  },
  {
   "cell_type": "code",
   "execution_count": 10,
   "id": "5f35991a",
   "metadata": {},
   "outputs": [
    {
     "name": "stdout",
     "output_type": "stream",
     "text": [
      "<class 'pandas.core.frame.DataFrame'>\n",
      "Int64Index: 13241 entries, 768 to 14327\n",
      "Data columns (total 6 columns):\n",
      " #   Column        Non-Null Count  Dtype         \n",
      "---  ------        --------------  -----         \n",
      " 0   ano           13241 non-null  object        \n",
      " 1   mes           13241 non-null  object        \n",
      " 2   dia           13241 non-null  object        \n",
      " 3   genero        13241 non-null  object        \n",
      " 4   nasc          13241 non-null  int64         \n",
      " 5   data_inteira  13148 non-null  datetime64[ns]\n",
      "dtypes: datetime64[ns](1), int64(1), object(4)\n",
      "memory usage: 724.1+ KB\n"
     ]
    }
   ],
   "source": [
    "    # Obs.: If 'coerce', then invalid parsing will be set as NaT (not a time).\n",
    "db['data_inteira'] = pd.to_datetime(db['data_inteira'], errors= 'coerce') \n",
    "\n",
    "    #Confirmando se a coluna (data_inteira) virou data\n",
    "db.info()"
   ]
  },
  {
   "cell_type": "markdown",
   "id": "937f5372",
   "metadata": {},
   "source": [
    "#### 11º - Checando se tem algumm valor NaT"
   ]
  },
  {
   "cell_type": "code",
   "execution_count": 11,
   "id": "f709dcad",
   "metadata": {},
   "outputs": [
    {
     "data": {
      "text/html": [
       "<div>\n",
       "<style scoped>\n",
       "    .dataframe tbody tr th:only-of-type {\n",
       "        vertical-align: middle;\n",
       "    }\n",
       "\n",
       "    .dataframe tbody tr th {\n",
       "        vertical-align: top;\n",
       "    }\n",
       "\n",
       "    .dataframe thead th {\n",
       "        text-align: right;\n",
       "    }\n",
       "</style>\n",
       "<table border=\"1\" class=\"dataframe\">\n",
       "  <thead>\n",
       "    <tr style=\"text-align: right;\">\n",
       "      <th></th>\n",
       "      <th>ano</th>\n",
       "      <th>mes</th>\n",
       "      <th>dia</th>\n",
       "      <th>genero</th>\n",
       "      <th>nasc</th>\n",
       "      <th>data_inteira</th>\n",
       "    </tr>\n",
       "  </thead>\n",
       "  <tbody>\n",
       "    <tr>\n",
       "      <th>888</th>\n",
       "      <td>1970</td>\n",
       "      <td>2</td>\n",
       "      <td>29</td>\n",
       "      <td>F</td>\n",
       "      <td>38</td>\n",
       "      <td>NaT</td>\n",
       "    </tr>\n",
       "    <tr>\n",
       "      <th>889</th>\n",
       "      <td>1970</td>\n",
       "      <td>2</td>\n",
       "      <td>29</td>\n",
       "      <td>M</td>\n",
       "      <td>44</td>\n",
       "      <td>NaT</td>\n",
       "    </tr>\n",
       "    <tr>\n",
       "      <th>890</th>\n",
       "      <td>1970</td>\n",
       "      <td>2</td>\n",
       "      <td>30</td>\n",
       "      <td>F</td>\n",
       "      <td>20</td>\n",
       "      <td>NaT</td>\n",
       "    </tr>\n",
       "    <tr>\n",
       "      <th>891</th>\n",
       "      <td>1970</td>\n",
       "      <td>2</td>\n",
       "      <td>30</td>\n",
       "      <td>M</td>\n",
       "      <td>12</td>\n",
       "      <td>NaT</td>\n",
       "    </tr>\n",
       "    <tr>\n",
       "      <th>892</th>\n",
       "      <td>1970</td>\n",
       "      <td>2</td>\n",
       "      <td>31</td>\n",
       "      <td>F</td>\n",
       "      <td>8</td>\n",
       "      <td>NaT</td>\n",
       "    </tr>\n",
       "    <tr>\n",
       "      <th>...</th>\n",
       "      <td>...</td>\n",
       "      <td>...</td>\n",
       "      <td>...</td>\n",
       "      <td>...</td>\n",
       "      <td>...</td>\n",
       "      <td>...</td>\n",
       "    </tr>\n",
       "    <tr>\n",
       "      <th>7253</th>\n",
       "      <td>1978</td>\n",
       "      <td>6</td>\n",
       "      <td>31</td>\n",
       "      <td>M</td>\n",
       "      <td>3</td>\n",
       "      <td>NaT</td>\n",
       "    </tr>\n",
       "    <tr>\n",
       "      <th>7443</th>\n",
       "      <td>1978</td>\n",
       "      <td>9</td>\n",
       "      <td>31</td>\n",
       "      <td>F</td>\n",
       "      <td>2</td>\n",
       "      <td>NaT</td>\n",
       "    </tr>\n",
       "    <tr>\n",
       "      <th>7444</th>\n",
       "      <td>1978</td>\n",
       "      <td>9</td>\n",
       "      <td>31</td>\n",
       "      <td>M</td>\n",
       "      <td>3</td>\n",
       "      <td>NaT</td>\n",
       "    </tr>\n",
       "    <tr>\n",
       "      <th>7571</th>\n",
       "      <td>1978</td>\n",
       "      <td>11</td>\n",
       "      <td>31</td>\n",
       "      <td>F</td>\n",
       "      <td>2</td>\n",
       "      <td>NaT</td>\n",
       "    </tr>\n",
       "    <tr>\n",
       "      <th>7572</th>\n",
       "      <td>1978</td>\n",
       "      <td>11</td>\n",
       "      <td>31</td>\n",
       "      <td>M</td>\n",
       "      <td>3</td>\n",
       "      <td>NaT</td>\n",
       "    </tr>\n",
       "  </tbody>\n",
       "</table>\n",
       "<p>93 rows × 6 columns</p>\n",
       "</div>"
      ],
      "text/plain": [
       "       ano mes dia genero  nasc data_inteira\n",
       "888   1970   2  29      F    38          NaT\n",
       "889   1970   2  29      M    44          NaT\n",
       "890   1970   2  30      F    20          NaT\n",
       "891   1970   2  30      M    12          NaT\n",
       "892   1970   2  31      F     8          NaT\n",
       "...    ...  ..  ..    ...   ...          ...\n",
       "7253  1978   6  31      M     3          NaT\n",
       "7443  1978   9  31      F     2          NaT\n",
       "7444  1978   9  31      M     3          NaT\n",
       "7571  1978  11  31      F     2          NaT\n",
       "7572  1978  11  31      M     3          NaT\n",
       "\n",
       "[93 rows x 6 columns]"
      ]
     },
     "execution_count": 11,
     "metadata": {},
     "output_type": "execute_result"
    }
   ],
   "source": [
    "db.query('data_inteira == \"NaT\"')"
   ]
  },
  {
   "cell_type": "markdown",
   "id": "52335ae3",
   "metadata": {},
   "source": [
    "#### 12º - Remover os NaT da coluna data inteira"
   ]
  },
  {
   "cell_type": "code",
   "execution_count": 12,
   "id": "af5edd38",
   "metadata": {},
   "outputs": [
    {
     "data": {
      "text/html": [
       "<div>\n",
       "<style scoped>\n",
       "    .dataframe tbody tr th:only-of-type {\n",
       "        vertical-align: middle;\n",
       "    }\n",
       "\n",
       "    .dataframe tbody tr th {\n",
       "        vertical-align: top;\n",
       "    }\n",
       "\n",
       "    .dataframe thead th {\n",
       "        text-align: right;\n",
       "    }\n",
       "</style>\n",
       "<table border=\"1\" class=\"dataframe\">\n",
       "  <thead>\n",
       "    <tr style=\"text-align: right;\">\n",
       "      <th></th>\n",
       "      <th>ano</th>\n",
       "      <th>mes</th>\n",
       "      <th>dia</th>\n",
       "      <th>genero</th>\n",
       "      <th>nasc</th>\n",
       "      <th>data_inteira</th>\n",
       "    </tr>\n",
       "  </thead>\n",
       "  <tbody>\n",
       "  </tbody>\n",
       "</table>\n",
       "</div>"
      ],
      "text/plain": [
       "Empty DataFrame\n",
       "Columns: [ano, mes, dia, genero, nasc, data_inteira]\n",
       "Index: []"
      ]
     },
     "execution_count": 12,
     "metadata": {},
     "output_type": "execute_result"
    }
   ],
   "source": [
    "db = db.dropna()\n",
    "db\n",
    "\n",
    "    #Confirmando que o NaT foi removido\n",
    "db.query('data_inteira == \"NaT\"')"
   ]
  },
  {
   "cell_type": "markdown",
   "id": "823cf9f8",
   "metadata": {},
   "source": [
    "#### 13º - Criar coluna com o dia da semana"
   ]
  },
  {
   "cell_type": "code",
   "execution_count": 13,
   "id": "b12663f4",
   "metadata": {},
   "outputs": [
    {
     "data": {
      "text/html": [
       "<div>\n",
       "<style scoped>\n",
       "    .dataframe tbody tr th:only-of-type {\n",
       "        vertical-align: middle;\n",
       "    }\n",
       "\n",
       "    .dataframe tbody tr th {\n",
       "        vertical-align: top;\n",
       "    }\n",
       "\n",
       "    .dataframe thead th {\n",
       "        text-align: right;\n",
       "    }\n",
       "</style>\n",
       "<table border=\"1\" class=\"dataframe\">\n",
       "  <thead>\n",
       "    <tr style=\"text-align: right;\">\n",
       "      <th></th>\n",
       "      <th>ano</th>\n",
       "      <th>mes</th>\n",
       "      <th>dia</th>\n",
       "      <th>genero</th>\n",
       "      <th>nasc</th>\n",
       "      <th>data_inteira</th>\n",
       "      <th>dia_semana</th>\n",
       "    </tr>\n",
       "  </thead>\n",
       "  <tbody>\n",
       "    <tr>\n",
       "      <th>768</th>\n",
       "      <td>1970</td>\n",
       "      <td>1</td>\n",
       "      <td>1</td>\n",
       "      <td>F</td>\n",
       "      <td>4064</td>\n",
       "      <td>1970-01-01</td>\n",
       "      <td>Thursday</td>\n",
       "    </tr>\n",
       "    <tr>\n",
       "      <th>769</th>\n",
       "      <td>1970</td>\n",
       "      <td>1</td>\n",
       "      <td>1</td>\n",
       "      <td>M</td>\n",
       "      <td>4308</td>\n",
       "      <td>1970-01-01</td>\n",
       "      <td>Thursday</td>\n",
       "    </tr>\n",
       "    <tr>\n",
       "      <th>770</th>\n",
       "      <td>1970</td>\n",
       "      <td>1</td>\n",
       "      <td>2</td>\n",
       "      <td>F</td>\n",
       "      <td>4536</td>\n",
       "      <td>1970-01-02</td>\n",
       "      <td>Friday</td>\n",
       "    </tr>\n",
       "    <tr>\n",
       "      <th>771</th>\n",
       "      <td>1970</td>\n",
       "      <td>1</td>\n",
       "      <td>2</td>\n",
       "      <td>M</td>\n",
       "      <td>4698</td>\n",
       "      <td>1970-01-02</td>\n",
       "      <td>Friday</td>\n",
       "    </tr>\n",
       "    <tr>\n",
       "      <th>772</th>\n",
       "      <td>1970</td>\n",
       "      <td>1</td>\n",
       "      <td>3</td>\n",
       "      <td>F</td>\n",
       "      <td>4398</td>\n",
       "      <td>1970-01-03</td>\n",
       "      <td>Saturday</td>\n",
       "    </tr>\n",
       "    <tr>\n",
       "      <th>...</th>\n",
       "      <td>...</td>\n",
       "      <td>...</td>\n",
       "      <td>...</td>\n",
       "      <td>...</td>\n",
       "      <td>...</td>\n",
       "      <td>...</td>\n",
       "      <td>...</td>\n",
       "    </tr>\n",
       "    <tr>\n",
       "      <th>14323</th>\n",
       "      <td>1987</td>\n",
       "      <td>12</td>\n",
       "      <td>29</td>\n",
       "      <td>M</td>\n",
       "      <td>6322</td>\n",
       "      <td>1987-12-29</td>\n",
       "      <td>Tuesday</td>\n",
       "    </tr>\n",
       "    <tr>\n",
       "      <th>14324</th>\n",
       "      <td>1987</td>\n",
       "      <td>12</td>\n",
       "      <td>30</td>\n",
       "      <td>F</td>\n",
       "      <td>5792</td>\n",
       "      <td>1987-12-30</td>\n",
       "      <td>Wednesday</td>\n",
       "    </tr>\n",
       "    <tr>\n",
       "      <th>14325</th>\n",
       "      <td>1987</td>\n",
       "      <td>12</td>\n",
       "      <td>30</td>\n",
       "      <td>M</td>\n",
       "      <td>6051</td>\n",
       "      <td>1987-12-30</td>\n",
       "      <td>Wednesday</td>\n",
       "    </tr>\n",
       "    <tr>\n",
       "      <th>14326</th>\n",
       "      <td>1987</td>\n",
       "      <td>12</td>\n",
       "      <td>31</td>\n",
       "      <td>F</td>\n",
       "      <td>5344</td>\n",
       "      <td>1987-12-31</td>\n",
       "      <td>Thursday</td>\n",
       "    </tr>\n",
       "    <tr>\n",
       "      <th>14327</th>\n",
       "      <td>1987</td>\n",
       "      <td>12</td>\n",
       "      <td>31</td>\n",
       "      <td>M</td>\n",
       "      <td>5468</td>\n",
       "      <td>1987-12-31</td>\n",
       "      <td>Thursday</td>\n",
       "    </tr>\n",
       "  </tbody>\n",
       "</table>\n",
       "<p>13148 rows × 7 columns</p>\n",
       "</div>"
      ],
      "text/plain": [
       "        ano mes dia genero  nasc data_inteira dia_semana\n",
       "768    1970   1   1      F  4064   1970-01-01   Thursday\n",
       "769    1970   1   1      M  4308   1970-01-01   Thursday\n",
       "770    1970   1   2      F  4536   1970-01-02     Friday\n",
       "771    1970   1   2      M  4698   1970-01-02     Friday\n",
       "772    1970   1   3      F  4398   1970-01-03   Saturday\n",
       "...     ...  ..  ..    ...   ...          ...        ...\n",
       "14323  1987  12  29      M  6322   1987-12-29    Tuesday\n",
       "14324  1987  12  30      F  5792   1987-12-30  Wednesday\n",
       "14325  1987  12  30      M  6051   1987-12-30  Wednesday\n",
       "14326  1987  12  31      F  5344   1987-12-31   Thursday\n",
       "14327  1987  12  31      M  5468   1987-12-31   Thursday\n",
       "\n",
       "[13148 rows x 7 columns]"
      ]
     },
     "execution_count": 13,
     "metadata": {},
     "output_type": "execute_result"
    }
   ],
   "source": [
    "db['dia_semana'] = db['data_inteira'].apply(lambda x: x.day_name())\n",
    "db"
   ]
  },
  {
   "cell_type": "markdown",
   "id": "1e2f9c90",
   "metadata": {},
   "source": [
    "#### 14º - Criar listas de week_day e celestial"
   ]
  },
  {
   "cell_type": "code",
   "execution_count": 14,
   "id": "f3dc1482",
   "metadata": {
    "scrolled": true
   },
   "outputs": [
    {
     "data": {
      "text/html": [
       "<div>\n",
       "<style scoped>\n",
       "    .dataframe tbody tr th:only-of-type {\n",
       "        vertical-align: middle;\n",
       "    }\n",
       "\n",
       "    .dataframe tbody tr th {\n",
       "        vertical-align: top;\n",
       "    }\n",
       "\n",
       "    .dataframe thead th {\n",
       "        text-align: right;\n",
       "    }\n",
       "</style>\n",
       "<table border=\"1\" class=\"dataframe\">\n",
       "  <thead>\n",
       "    <tr style=\"text-align: right;\">\n",
       "      <th></th>\n",
       "      <th>dia_semana</th>\n",
       "      <th>celestial</th>\n",
       "    </tr>\n",
       "  </thead>\n",
       "  <tbody>\n",
       "    <tr>\n",
       "      <th>0</th>\n",
       "      <td>Monday</td>\n",
       "      <td>moon</td>\n",
       "    </tr>\n",
       "    <tr>\n",
       "      <th>1</th>\n",
       "      <td>Tuesday</td>\n",
       "      <td>mars</td>\n",
       "    </tr>\n",
       "    <tr>\n",
       "      <th>2</th>\n",
       "      <td>Wednesday</td>\n",
       "      <td>mercury</td>\n",
       "    </tr>\n",
       "    <tr>\n",
       "      <th>3</th>\n",
       "      <td>Thursday</td>\n",
       "      <td>jupiter</td>\n",
       "    </tr>\n",
       "    <tr>\n",
       "      <th>4</th>\n",
       "      <td>Friday</td>\n",
       "      <td>venus</td>\n",
       "    </tr>\n",
       "    <tr>\n",
       "      <th>5</th>\n",
       "      <td>Saturday</td>\n",
       "      <td>saturn</td>\n",
       "    </tr>\n",
       "    <tr>\n",
       "      <th>6</th>\n",
       "      <td>Sunday</td>\n",
       "      <td>sun</td>\n",
       "    </tr>\n",
       "  </tbody>\n",
       "</table>\n",
       "</div>"
      ],
      "text/plain": [
       "  dia_semana celestial\n",
       "0     Monday      moon\n",
       "1    Tuesday      mars\n",
       "2  Wednesday   mercury\n",
       "3   Thursday   jupiter\n",
       "4     Friday     venus\n",
       "5   Saturday    saturn\n",
       "6     Sunday       sun"
      ]
     },
     "execution_count": 14,
     "metadata": {},
     "output_type": "execute_result"
    }
   ],
   "source": [
    "week_day = ['Monday','Tuesday','Wednesday','Thursday','Friday','Saturday','Sunday']\n",
    "celestial = ['moon','mars','mercury','jupiter','venus','saturn','sun']\n",
    "\n",
    "    #Fazendo o dataframe novo (a partir de um dicionário).\n",
    "    \n",
    "astral_map = pd.DataFrame({'dia_semana': week_day,\n",
    "                            'celestial':celestial})\n",
    "astral_map"
   ]
  },
  {
   "cell_type": "markdown",
   "id": "28f73c3b",
   "metadata": {},
   "source": [
    "#### 15º - Fazer o merge dos data frames"
   ]
  },
  {
   "cell_type": "code",
   "execution_count": 15,
   "id": "1400352c",
   "metadata": {
    "scrolled": true
   },
   "outputs": [
    {
     "data": {
      "text/html": [
       "<div>\n",
       "<style scoped>\n",
       "    .dataframe tbody tr th:only-of-type {\n",
       "        vertical-align: middle;\n",
       "    }\n",
       "\n",
       "    .dataframe tbody tr th {\n",
       "        vertical-align: top;\n",
       "    }\n",
       "\n",
       "    .dataframe thead th {\n",
       "        text-align: right;\n",
       "    }\n",
       "</style>\n",
       "<table border=\"1\" class=\"dataframe\">\n",
       "  <thead>\n",
       "    <tr style=\"text-align: right;\">\n",
       "      <th></th>\n",
       "      <th>ano</th>\n",
       "      <th>mes</th>\n",
       "      <th>dia</th>\n",
       "      <th>genero</th>\n",
       "      <th>nasc</th>\n",
       "      <th>data_inteira</th>\n",
       "      <th>dia_semana</th>\n",
       "      <th>celestial</th>\n",
       "    </tr>\n",
       "  </thead>\n",
       "  <tbody>\n",
       "    <tr>\n",
       "      <th>0</th>\n",
       "      <td>1970</td>\n",
       "      <td>1</td>\n",
       "      <td>1</td>\n",
       "      <td>F</td>\n",
       "      <td>4064</td>\n",
       "      <td>1970-01-01</td>\n",
       "      <td>Thursday</td>\n",
       "      <td>jupiter</td>\n",
       "    </tr>\n",
       "    <tr>\n",
       "      <th>1</th>\n",
       "      <td>1970</td>\n",
       "      <td>1</td>\n",
       "      <td>1</td>\n",
       "      <td>M</td>\n",
       "      <td>4308</td>\n",
       "      <td>1970-01-01</td>\n",
       "      <td>Thursday</td>\n",
       "      <td>jupiter</td>\n",
       "    </tr>\n",
       "    <tr>\n",
       "      <th>2</th>\n",
       "      <td>1970</td>\n",
       "      <td>1</td>\n",
       "      <td>8</td>\n",
       "      <td>F</td>\n",
       "      <td>4744</td>\n",
       "      <td>1970-01-08</td>\n",
       "      <td>Thursday</td>\n",
       "      <td>jupiter</td>\n",
       "    </tr>\n",
       "    <tr>\n",
       "      <th>3</th>\n",
       "      <td>1970</td>\n",
       "      <td>1</td>\n",
       "      <td>8</td>\n",
       "      <td>M</td>\n",
       "      <td>5012</td>\n",
       "      <td>1970-01-08</td>\n",
       "      <td>Thursday</td>\n",
       "      <td>jupiter</td>\n",
       "    </tr>\n",
       "    <tr>\n",
       "      <th>4</th>\n",
       "      <td>1970</td>\n",
       "      <td>1</td>\n",
       "      <td>15</td>\n",
       "      <td>F</td>\n",
       "      <td>4764</td>\n",
       "      <td>1970-01-15</td>\n",
       "      <td>Thursday</td>\n",
       "      <td>jupiter</td>\n",
       "    </tr>\n",
       "    <tr>\n",
       "      <th>...</th>\n",
       "      <td>...</td>\n",
       "      <td>...</td>\n",
       "      <td>...</td>\n",
       "      <td>...</td>\n",
       "      <td>...</td>\n",
       "      <td>...</td>\n",
       "      <td>...</td>\n",
       "      <td>...</td>\n",
       "    </tr>\n",
       "    <tr>\n",
       "      <th>13143</th>\n",
       "      <td>1987</td>\n",
       "      <td>12</td>\n",
       "      <td>16</td>\n",
       "      <td>M</td>\n",
       "      <td>5648</td>\n",
       "      <td>1987-12-16</td>\n",
       "      <td>Wednesday</td>\n",
       "      <td>mercury</td>\n",
       "    </tr>\n",
       "    <tr>\n",
       "      <th>13144</th>\n",
       "      <td>1987</td>\n",
       "      <td>12</td>\n",
       "      <td>23</td>\n",
       "      <td>F</td>\n",
       "      <td>4988</td>\n",
       "      <td>1987-12-23</td>\n",
       "      <td>Wednesday</td>\n",
       "      <td>mercury</td>\n",
       "    </tr>\n",
       "    <tr>\n",
       "      <th>13145</th>\n",
       "      <td>1987</td>\n",
       "      <td>12</td>\n",
       "      <td>23</td>\n",
       "      <td>M</td>\n",
       "      <td>5313</td>\n",
       "      <td>1987-12-23</td>\n",
       "      <td>Wednesday</td>\n",
       "      <td>mercury</td>\n",
       "    </tr>\n",
       "    <tr>\n",
       "      <th>13146</th>\n",
       "      <td>1987</td>\n",
       "      <td>12</td>\n",
       "      <td>30</td>\n",
       "      <td>F</td>\n",
       "      <td>5792</td>\n",
       "      <td>1987-12-30</td>\n",
       "      <td>Wednesday</td>\n",
       "      <td>mercury</td>\n",
       "    </tr>\n",
       "    <tr>\n",
       "      <th>13147</th>\n",
       "      <td>1987</td>\n",
       "      <td>12</td>\n",
       "      <td>30</td>\n",
       "      <td>M</td>\n",
       "      <td>6051</td>\n",
       "      <td>1987-12-30</td>\n",
       "      <td>Wednesday</td>\n",
       "      <td>mercury</td>\n",
       "    </tr>\n",
       "  </tbody>\n",
       "</table>\n",
       "<p>13148 rows × 8 columns</p>\n",
       "</div>"
      ],
      "text/plain": [
       "        ano mes dia genero  nasc data_inteira dia_semana celestial\n",
       "0      1970   1   1      F  4064   1970-01-01   Thursday   jupiter\n",
       "1      1970   1   1      M  4308   1970-01-01   Thursday   jupiter\n",
       "2      1970   1   8      F  4744   1970-01-08   Thursday   jupiter\n",
       "3      1970   1   8      M  5012   1970-01-08   Thursday   jupiter\n",
       "4      1970   1  15      F  4764   1970-01-15   Thursday   jupiter\n",
       "...     ...  ..  ..    ...   ...          ...        ...       ...\n",
       "13143  1987  12  16      M  5648   1987-12-16  Wednesday   mercury\n",
       "13144  1987  12  23      F  4988   1987-12-23  Wednesday   mercury\n",
       "13145  1987  12  23      M  5313   1987-12-23  Wednesday   mercury\n",
       "13146  1987  12  30      F  5792   1987-12-30  Wednesday   mercury\n",
       "13147  1987  12  30      M  6051   1987-12-30  Wednesday   mercury\n",
       "\n",
       "[13148 rows x 8 columns]"
      ]
     },
     "execution_count": 15,
     "metadata": {},
     "output_type": "execute_result"
    }
   ],
   "source": [
    "merge_db = pd.merge(db, astral_map, left_on = 'dia_semana', right_on = 'dia_semana')\n",
    "merge_db"
   ]
  },
  {
   "cell_type": "markdown",
   "id": "24420c69",
   "metadata": {},
   "source": [
    "#### 16º Fazer o gráfico de dias da semana em que nascimentos ocorrem"
   ]
  },
  {
   "cell_type": "code",
   "execution_count": 16,
   "id": "141303fa",
   "metadata": {},
   "outputs": [
    {
     "data": {
      "text/plain": [
       "<AxesSubplot:xlabel='ano'>"
      ]
     },
     "execution_count": 16,
     "metadata": {},
     "output_type": "execute_result"
    },
    {
     "data": {
      "image/png": "[encoded data removed]",
      "text/plain": [
       "<Figure size 1000x400 with 1 Axes>"
      ]
     },
     "metadata": {},
     "output_type": "display_data"
    }
   ],
   "source": [
    "nasc_dia_semana = db.pivot_table('nasc', index='ano',columns='dia_semana', aggfunc='sum')\n",
    "nasc_dia_semana.plot(figsize=(10,4))"
   ]
  }
 ],
 "metadata": {
  "kernelspec": {
   "display_name": "Python 3 (ipykernel)",
   "language": "python",
   "name": "python3"
  },
  "language_info": {
   "codemirror_mode": {
    "name": "ipython",
    "version": 3
   },
   "file_extension": ".py",
   "mimetype": "text/x-python",
   "name": "python",
   "nbconvert_exporter": "python",
   "pygments_lexer": "ipython3",
   "version": "3.9.13"
  }
 },
 "nbformat": 4,
 "nbformat_minor": 5
}
